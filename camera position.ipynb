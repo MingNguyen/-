{
  "cells": [
    {
      "attachments": {},
      "cell_type": "markdown",
      "metadata": {
        "id": "OrdiKzX7C7Bm"
      },
      "source": [
        "# 2:\n",
        "\n",
        "## 2.3: Find the camera position:\n",
        "\n",
        "<img src=\"https://i.imgur.com/GjxG0Nx.png\" width=\"500\" height=\"500\">\n",
        "\n",
        "Suppose we have a 3D space, call the plane containing the road is base plane, and the road view we see on the image is image region. Suppose that center point of the image is  $O$ , the projection point of camera to the base plane is  $P$ . line $OP$  intersect the image region at lower border, call that intersect is point  $L$ . Call  $Pd$  is the projection of  $P$  to the midline. Call  $O′,L′,P′$ . The figure below illustrates this situation.\n",
        "\n",
        "If we ignore the height, the distance from camera to midlines is also the length of line  $PD$ . To solve this problem, we can flat the 3D space to image Now we can work with only image plane\n",
        "\n",
        "<img src=\"https://i.imgur.com/vwzxKto.png\" width=\"500\" height=\"500\">\n",
        "\n",
        "### 2.3.1 Calulate  $PP′ $\n",
        "\n",
        "We want to have the value of  $PP'$ , the solution is to find the value of  $OO',LL',OL,LP $\n",
        "\n",
        "1.1/ Find the vlue of  $OL,LP$ \n",
        "\n",
        "We assume that the camera is fixed, so OL an LP must be also fixed as it is correlate with the change of camera. So to get the distance of OL and LP easily, we can simply measure it in the real world\n",
        "\n",
        "### 2.3.2 Find the value of  $OO′,LP$ \n",
        "\n",
        "With the same x coordinate, ratio of pixel and milimeters is unchange for any pairs of  $y1,y2$ , Using this feature, we can determine the distance in milimeters of  $OO′,LL'$,  as each lines is located on same $x$ coordinate.\n",
        "\n",
        "<img src=\"https://i.imgur.com/wM8K9sv.png\" width=\"500\" height=\"500\">\n",
        "\n",
        "With the measurement, we will have the ratio (mm/pixel) of pixel and milimeters at lower border axis and center axis. So the value of the these distance: $real distance = ratio * pixel$\n",
        "\n",
        "1.3/ Once we have the values of all the required distances, we can use the Thales theorem to find  $PP′$ .\n",
        "\n",
        "Call A is the intersect point of midline and OL \n",
        "\n",
        "$\\frac{AL}{LO}=\\frac{LL'}{OO'}=>AO=\\frac{OL}{\\frac{LL'}{OO'}-1}\\\\\n",
        "\\frac{AO}{AO+OL+LP}=\\frac{OO'}{PP'}=>PP'=\\frac{OO'*(AO+OL+LP)}{AO}$\n",
        "\n",
        "\n",
        "\n",
        "### 2.3.3 calulcate  $PP_d$ \n",
        "\n",
        "$PPd=PP′sin(L′P′D^)$ . This means that the sine of the angle between the midline and the horizontal axis is equal to the ratio of  $PP_d$  and  $PP′$ . We can use this to find the distance of the camera.\n",
        "\n",
        "### 2.3.4 Accuracy of the algorithm"
      ]
    },
    {
      "cell_type": "code",
      "execution_count": 12,
      "metadata": {
        "id": "O6RDTgJDFkdy"
      },
      "outputs": [
        {
          "name": "stdout",
          "output_type": "stream",
          "text": [
            "    real distance real part  calcultated distance calculated part  accuracy\n",
            "0              10     right                  4.21            left  0.421000\n",
            "1              10      left                 12.31            left  0.769000\n",
            "2              20    right                  16.59           right  0.829500\n",
            "3              20      left                 24.23            left  0.788500\n",
            "4              40     right                 39.91           right  0.997750\n",
            "5              40      left                 45.94            left  0.851500\n",
            "6              80     right                 92.32           right  0.846000\n",
            "7              80      left                 94.51            left  0.818625\n",
            "8             160     right                229.13           right  0.567937\n",
            "9             160      left                243.23            left  0.479813\n",
            "10            320     right                448.24           right  0.599250\n",
            "11            320      left                   NaN             NaN       NaN\n",
            "mean: 0.7244431818181818\n",
            "standard devitation: 0.17991696534127521\n"
          ]
        }
      ],
      "source": [
        "import pandas as pd\n",
        "data = pd.read_csv(\"accuracy of distance measurement.csv\")\n",
        "data['accuracy'] = 1 - abs((data['real distance']-data['calcultated distance']) / data['real distance'])\n",
        "print(data)\n",
        "print(\"mean:\",data.accuracy.mean())\n",
        "print(\"standard devitation:\",data.accuracy.std())"
      ]
    },
    {
      "attachments": {},
      "cell_type": "markdown",
      "metadata": {},
      "source": [
        "As shown on above table, our algorithm work well if the real distance of the camera is not too near the midlines and if the camera is not futher than 80mm. the meadian accuracy is 72.44 and the standard deviation is 0.1799"
      ]
    }
  ],
  "metadata": {
    "colab": {
      "provenance": []
    },
    "kernelspec": {
      "display_name": "Python 3",
      "language": "python",
      "name": "python3"
    },
    "language_info": {
      "codemirror_mode": {
        "name": "ipython",
        "version": 3
      },
      "file_extension": ".py",
      "mimetype": "text/x-python",
      "name": "python",
      "nbconvert_exporter": "python",
      "pygments_lexer": "ipython3",
      "version": "3.7.16"
    },
    "orig_nbformat": 4
  },
  "nbformat": 4,
  "nbformat_minor": 0
}
